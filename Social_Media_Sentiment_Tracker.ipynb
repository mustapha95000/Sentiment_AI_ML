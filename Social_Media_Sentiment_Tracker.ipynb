{
  "nbformat": 4,
  "nbformat_minor": 0,
  "metadata": {
    "colab": {
      "provenance": [],
      "authorship_tag": "ABX9TyOVXGmxRmeGi5ysxkgpIE5h",
      "include_colab_link": true
    },
    "kernelspec": {
      "name": "python3",
      "display_name": "Python 3"
    },
    "language_info": {
      "name": "python"
    }
  },
  "cells": [
    {
      "cell_type": "markdown",
      "metadata": {
        "id": "view-in-github",
        "colab_type": "text"
      },
      "source": [
        "<a href=\"https://colab.research.google.com/github/mustapha95000/Sentiment_AI_ML/blob/main/Social_Media_Sentiment_Tracker.ipynb\" target=\"_parent\"><img src=\"https://colab.research.google.com/assets/colab-badge.svg\" alt=\"Open In Colab\"/></a>"
      ]
    },
    {
      "cell_type": "code",
      "execution_count": 1,
      "metadata": {
        "colab": {
          "base_uri": "https://localhost:8080/",
          "height": 1000
        },
        "id": "oLJTnheHOnHS",
        "outputId": "4ea7cbbe-3972-4f8c-d1a0-fd146f1ece00"
      },
      "outputs": [
        {
          "output_type": "stream",
          "name": "stdout",
          "text": [
            "Collecting praw\n",
            "  Downloading praw-7.7.1-py3-none-any.whl (191 kB)\n",
            "\u001b[?25l     \u001b[90m━━━━━━━━━━━━━━━━━━━━━━━━━━━━━━━━━━━━━━━━\u001b[0m \u001b[32m0.0/191.0 kB\u001b[0m \u001b[31m?\u001b[0m eta \u001b[36m-:--:--\u001b[0m\r\u001b[2K     \u001b[91m━━━━━━━━━━━━━━━━━━━━━\u001b[0m\u001b[90m╺\u001b[0m\u001b[90m━━━━━━━━━━━━━━━━━━\u001b[0m \u001b[32m102.4/191.0 kB\u001b[0m \u001b[31m2.8 MB/s\u001b[0m eta \u001b[36m0:00:01\u001b[0m\r\u001b[2K     \u001b[90m━━━━━━━━━━━━━━━━━━━━━━━━━━━━━━━━━━━━━━━━\u001b[0m \u001b[32m191.0/191.0 kB\u001b[0m \u001b[31m3.9 MB/s\u001b[0m eta \u001b[36m0:00:00\u001b[0m\n",
            "\u001b[?25hCollecting prawcore<3,>=2.1 (from praw)\n",
            "  Downloading prawcore-2.4.0-py3-none-any.whl (17 kB)\n",
            "Collecting update-checker>=0.18 (from praw)\n",
            "  Downloading update_checker-0.18.0-py3-none-any.whl (7.0 kB)\n",
            "Requirement already satisfied: websocket-client>=0.54.0 in /usr/local/lib/python3.10/dist-packages (from praw) (1.7.0)\n",
            "Requirement already satisfied: requests<3.0,>=2.6.0 in /usr/local/lib/python3.10/dist-packages (from prawcore<3,>=2.1->praw) (2.31.0)\n",
            "Requirement already satisfied: charset-normalizer<4,>=2 in /usr/local/lib/python3.10/dist-packages (from requests<3.0,>=2.6.0->prawcore<3,>=2.1->praw) (3.3.2)\n",
            "Requirement already satisfied: idna<4,>=2.5 in /usr/local/lib/python3.10/dist-packages (from requests<3.0,>=2.6.0->prawcore<3,>=2.1->praw) (3.6)\n",
            "Requirement already satisfied: urllib3<3,>=1.21.1 in /usr/local/lib/python3.10/dist-packages (from requests<3.0,>=2.6.0->prawcore<3,>=2.1->praw) (2.0.7)\n",
            "Requirement already satisfied: certifi>=2017.4.17 in /usr/local/lib/python3.10/dist-packages (from requests<3.0,>=2.6.0->prawcore<3,>=2.1->praw) (2023.11.17)\n",
            "Installing collected packages: update-checker, prawcore, praw\n",
            "Successfully installed praw-7.7.1 prawcore-2.4.0 update-checker-0.18.0\n"
          ]
        },
        {
          "output_type": "stream",
          "name": "stderr",
          "text": [
            "WARNING:praw:It appears that you are using PRAW in an asynchronous environment.\n",
            "It is strongly recommended to use Async PRAW: https://asyncpraw.readthedocs.io.\n",
            "See https://praw.readthedocs.io/en/latest/getting_started/multiple_instances.html#discord-bots-and-asynchronous-environments for more info.\n",
            "\n"
          ]
        },
        {
          "output_type": "stream",
          "name": "stdout",
          "text": [
            "Reddit Posts:\n",
            "                                               title  \\\n",
            "0  How to remove \"src.\" from the start of my impo...   \n",
            "1                                Beginner help! Mimo   \n",
            "2  In this Linked List, where am I getting the at...   \n",
            "3          Matplotlib scatter and imshow interaction   \n",
            "4  its possible to create this python program: i ...   \n",
            "5  How to parse BeautifulSoup for front-end website.   \n",
            "6                     Interactive data visualization   \n",
            "7      Fixed hash values for classes in Python. Why?   \n",
            "8   Need some Help with a simple program Im creating   \n",
            "9  Is it possible to use an API written in C# .NE...   \n",
            "\n",
            "                                                text  score  \\\n",
            "0  I have a project that follows Python's [recomm...      1   \n",
            "1  Hi everyone! I am using the mimo app as well a...      1   \n",
            "2  I have a linked list, that can Insert, search,...      3   \n",
            "3  I have the following snippet of code:\\n\\n&#x20...      1   \n",
            "4  I want to save the qr code that my camera scan...      1   \n",
            "5  Hi there, what’s the best framework for web fr...      2   \n",
            "6  Hello everyone,\\nI run on python a simulation ...      3   \n",
            "7  I'm learning about hash values and the hash() ...     11   \n",
            "8  there are 3 images: ticket.png, watch ad.png. ...      2   \n",
            "9  I have a MEI bill acceptor hardware and it's A...      1   \n",
            "\n",
            "                                                 url  sentiment_score  \\\n",
            "0  https://www.reddit.com/r/learnpython/comments/...         0.133929   \n",
            "1  https://www.reddit.com/r/learnpython/comments/...        -0.261111   \n",
            "2  https://www.reddit.com/r/learnpython/comments/...         0.000000   \n",
            "3  https://www.reddit.com/r/learnpython/comments/...         0.109375   \n",
            "4  https://www.reddit.com/r/learnpython/comments/...         0.000000   \n",
            "5  https://www.reddit.com/r/learnpython/comments/...         0.625000   \n",
            "6  https://www.reddit.com/r/learnpython/comments/...         0.017083   \n",
            "7  https://www.reddit.com/r/learnpython/comments/...         0.020625   \n",
            "8  https://www.reddit.com/r/learnpython/comments/...        -0.435714   \n",
            "9  https://www.reddit.com/r/learnpython/comments/...         0.100000   \n",
            "\n",
            "  sentiment  \n",
            "0  Positive  \n",
            "1  Negative  \n",
            "2   Neutral  \n",
            "3  Positive  \n",
            "4   Neutral  \n",
            "5  Positive  \n",
            "6  Positive  \n",
            "7  Positive  \n",
            "8  Negative  \n",
            "9  Positive  \n"
          ]
        },
        {
          "output_type": "display_data",
          "data": {
            "text/plain": [
              "<Figure size 800x600 with 1 Axes>"
            ],
            "image/png": "[encoded data removed]"
          },
          "metadata": {}
        },
        {
          "output_type": "execute_result",
          "data": {
            "text/plain": [
              "'\\nThe Social Media Sentiment Tracker is a Python-based sentiment analysis project \\nimplemented in Google collab research workspace, targeting the analysis of posts \\non the Reddit platform. The project utilizes the PRAW library for Reddit API \\ninteractions, pandas for data manipulation, Matplotlib for visualization, and \\nTextBlob for sentiment analysis. After setting up Reddit API credentials, the \\nscript fetches a specified number of posts from a chosen subreddit, storing \\nthem in a DataFrame. The sentiment of each post is then analyzed using TextBlob, \\nand sentiments are classified as positive, negative, or neutral. The final step \\ninvolves visualizing the distribution of sentiments through a bar chart. This \\nproject serves as a comprehensive guide, demonstrating the entire process from \\naccessing social media data to sentiment analysis and visualization, providing a \\npractical template for users interested in monitoring and understanding sentiment \\ntrends on platforms like Reddit or instagram.\\n'"
            ],
            "application/vnd.google.colaboratory.intrinsic+json": {
              "type": "string"
            }
          },
          "metadata": {},
          "execution_count": 1
        }
      ],
      "source": [
        "!pip install praw\n",
        "\n",
        "# Import necessary libraries\n",
        "import praw\n",
        "import pandas as pd\n",
        "import matplotlib.pyplot as plt\n",
        "from textblob import TextBlob\n",
        "\n",
        "# Set up Reddit API credentials\n",
        "# Visit https://www.reddit.com/prefs/apps to create an app and get your credentials\n",
        "reddit_client_id = '7jNtffwEDSuYGLgr2tGEJQ'\n",
        "reddit_client_secret = 'mMF4DKp4b9Jm3IUyq6a_TV9JP_5ugw'\n",
        "reddit_user_agent = 'Alfa_romeo'\n",
        "\n",
        "# Set up praw Reddit instance\n",
        "reddit = praw.Reddit(client_id=reddit_client_id,\n",
        "                     client_secret=reddit_client_secret,\n",
        "                     user_agent=reddit_user_agent)\n",
        "\n",
        "# Function to get Reddit posts and their sentiments\n",
        "def get_reddit_posts(subreddit, num_posts):\n",
        "    subreddit = reddit.subreddit(subreddit)\n",
        "    posts = []\n",
        "\n",
        "    for post in subreddit.new(limit=num_posts):\n",
        "        posts.append({\n",
        "            'title': post.title,\n",
        "            'text': post.selftext,\n",
        "            'score': post.score,\n",
        "            'url': post.url\n",
        "        })\n",
        "\n",
        "    return posts\n",
        "\n",
        "# Function to analyze sentiment using TextBlob\n",
        "def analyze_sentiment(text):\n",
        "    analysis = TextBlob(text)\n",
        "    return analysis.sentiment.polarity\n",
        "\n",
        "# Function to classify sentiment\n",
        "def classify_sentiment(score):\n",
        "    if score > 0:\n",
        "        return 'Positive'\n",
        "    elif score < 0:\n",
        "        return 'Negative'\n",
        "    else:\n",
        "        return 'Neutral'\n",
        "\n",
        "# Specify the subreddit and the number of posts to analyze\n",
        "subreddit_name = 'learnpython'\n",
        "num_posts_to_analyze = 10\n",
        "\n",
        "# Get Reddit posts\n",
        "reddit_posts = get_reddit_posts(subreddit_name, num_posts_to_analyze)\n",
        "\n",
        "# Create a DataFrame to store the data\n",
        "df = pd.DataFrame(reddit_posts)\n",
        "\n",
        "# Analyze sentiments and classify them\n",
        "df['sentiment_score'] = df['text'].apply(analyze_sentiment)\n",
        "df['sentiment'] = df['sentiment_score'].apply(classify_sentiment)\n",
        "\n",
        "# Display the DataFrame\n",
        "print(\"Reddit Posts:\")\n",
        "print(df)\n",
        "\n",
        "# Visualize sentiments\n",
        "plt.figure(figsize=(8, 6))\n",
        "df['sentiment'].value_counts().plot(kind='bar', color=['green', 'red', 'yellow'])\n",
        "plt.title('Sentiment Analysis of Reddit Posts')\n",
        "plt.xlabel('Sentiment')\n",
        "plt.ylabel('Number of Posts')\n",
        "plt.show()\n",
        "\n",
        "\"\"\"\n",
        "The Social Media Sentiment Tracker is a Python-based sentiment analysis project\n",
        "implemented in Google collab research workspace, targeting the analysis of posts\n",
        "on the Reddit platform. The project utilizes the PRAW library for Reddit API\n",
        "interactions, pandas for data manipulation, Matplotlib for visualization, and\n",
        "TextBlob for sentiment analysis. After setting up Reddit API credentials, the\n",
        "script fetches a specified number of posts from a chosen subreddit, storing\n",
        "them in a DataFrame. The sentiment of each post is then analyzed using TextBlob,\n",
        "and sentiments are classified as positive, negative, or neutral. The final step\n",
        "involves visualizing the distribution of sentiments through a bar chart. This\n",
        "project serves as a comprehensive guide, demonstrating the entire process from\n",
        "accessing social media data to sentiment analysis and visualization, providing a\n",
        "practical template for users interested in monitoring and understanding sentiment\n",
        "trends on platforms like Reddit or instagram.\n",
        "\"\"\""
      ]
    }
  ]
}